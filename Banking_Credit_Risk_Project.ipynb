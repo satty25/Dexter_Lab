{
  "nbformat": 4,
  "nbformat_minor": 0,
  "metadata": {
    "colab": {
      "provenance": [],
      "authorship_tag": "ABX9TyNh+4f8L5q32i26Qj0vivXw",
      "include_colab_link": true
    },
    "kernelspec": {
      "name": "python3",
      "display_name": "Python 3"
    },
    "language_info": {
      "name": "python"
    }
  },
  "cells": [
    {
      "cell_type": "markdown",
      "metadata": {
        "id": "view-in-github",
        "colab_type": "text"
      },
      "source": [
        "<a href=\"https://colab.research.google.com/github/satty25/Dexter_Lab/blob/main/Banking_Credit_Risk_Project.ipynb\" target=\"_parent\"><img src=\"https://colab.research.google.com/assets/colab-badge.svg\" alt=\"Open In Colab\"/></a>"
      ]
    },
    {
      "cell_type": "markdown",
      "source": [
        "# **BANKING CREDIT RISK MODEL**"
      ],
      "metadata": {
        "id": "KSgst8XPD6Ld"
      }
    },
    {
      "cell_type": "markdown",
      "source": [
        "# **Problem Statement**\n",
        "A credit score is a numerical indicator of an individual's creditworthiness, typically ranging from 300 to 850. It assists lenders in evaluating the risk associated with providing loans. A higher credit score signifies strong creditworthiness, indicating a greater likelihood of timely repayments, whereas a lower score suggests increased lending risk.\n",
        "\n",
        "\n",
        "Credit Risk Model Development\n",
        "Credit risk model development involves creating statistical or machine learning models to predict the likelihood of a borrower defaulting on their financial obligations. These models are widely used in banking, lending, and financial services to quantify risk before approving loans or credit.\n",
        "\n",
        "A key model in this field is the Probability of Default (PD) model, which estimates the likelihood of a borrower defaulting on a loan within a specified period, typically one year. This model is crucial for financial institutions to manage credit risk effectively and make informed lending decisions."
      ],
      "metadata": {
        "id": "-WJXkqfNCO7h"
      }
    },
    {
      "cell_type": "markdown",
      "source": [
        "# **DATA EXPLORATION,VALIDATION AND CLEANING**"
      ],
      "metadata": {
        "id": "S29qNSkjOy7X"
      }
    },
    {
      "cell_type": "code",
      "source": [
        "import pandas as pd\n",
        "import matplotlib.pyplot as plt\n"
      ],
      "metadata": {
        "id": "6ReuaJKTOxqg"
      },
      "execution_count": null,
      "outputs": []
    },
    {
      "cell_type": "code",
      "source": [
        "Credit_data=pd.read_csv('/content/cs-training.csv',encoding='Latin-1')"
      ],
      "metadata": {
        "id": "HOPX0mOc_Et8"
      },
      "execution_count": 15,
      "outputs": []
    },
    {
      "cell_type": "code",
      "source": [
        "Credit_data.columns"
      ],
      "metadata": {
        "id": "QbLYYtHj_Eqd"
      },
      "execution_count": null,
      "outputs": []
    },
    {
      "cell_type": "code",
      "source": [
        "Credit_data.info()\n",
        "#Observation: Null values observed in MonthlyIncome and No_of_dependents"
      ],
      "metadata": {
        "id": "u2Wpn4xB-iAg"
      },
      "execution_count": null,
      "outputs": []
    },
    {
      "cell_type": "code",
      "source": [
        "Credit_data.head(10)"
      ],
      "metadata": {
        "id": "aJkYqBzn-iDQ"
      },
      "execution_count": null,
      "outputs": []
    },
    {
      "cell_type": "code",
      "source": [
        "#Creating a duplicate dataset for working and keeping the masterdata untouched\n",
        "Credit_data_clean=Credit_data.copy(deep=True)"
      ],
      "metadata": {
        "id": "HmET5nzf-iGK"
      },
      "execution_count": 20,
      "outputs": []
    },
    {
      "cell_type": "code",
      "source": [
        "Credit_data_clean.head(10)"
      ],
      "metadata": {
        "id": "tz3mizZZ-iI6"
      },
      "execution_count": null,
      "outputs": []
    },
    {
      "cell_type": "code",
      "source": [
        "Credit_data_clean.shape"
      ],
      "metadata": {
        "id": "r6cXgMM_-iLs",
        "colab": {
          "base_uri": "https://localhost:8080/"
        },
        "outputId": "0f44dc73-14e0-4e40-9136-254d32867187"
      },
      "execution_count": null,
      "outputs": [
        {
          "output_type": "execute_result",
          "data": {
            "text/plain": [
              "(150000, 12)"
            ]
          },
          "metadata": {},
          "execution_count": 27
        }
      ]
    },
    {
      "cell_type": "code",
      "source": [
        "Credit_data_clean.info()"
      ],
      "metadata": {
        "id": "r8ZSnS34-iOF"
      },
      "execution_count": null,
      "outputs": []
    },
    {
      "cell_type": "code",
      "source": [
        "Credit_data_clean.columns.values"
      ],
      "metadata": {
        "id": "dvUhmIN--iRF"
      },
      "execution_count": null,
      "outputs": []
    },
    {
      "cell_type": "markdown",
      "source": [
        "#**Categorical Variable Exploration**"
      ],
      "metadata": {
        "id": "4WrxwbPxPQRP"
      }
    },
    {
      "cell_type": "markdown",
      "source": [
        "**SeriousDlqin2yrs**"
      ],
      "metadata": {
        "id": "qWdmu-cmSPb1"
      }
    },
    {
      "cell_type": "code",
      "source": [
        "Credit_data_clean['SeriousDlqin2yrs'].value_counts()\n",
        "#Obs: Class Imbalance exists"
      ],
      "metadata": {
        "collapsed": true,
        "id": "UkeDxHXqR55D"
      },
      "execution_count": null,
      "outputs": []
    },
    {
      "cell_type": "code",
      "source": [
        "Credit_data_clean['SeriousDlqin2yrs'].value_counts(normalize=True)\n",
        "#Value in %"
      ],
      "metadata": {
        "id": "bAwN439a-iTU",
        "collapsed": true
      },
      "execution_count": null,
      "outputs": []
    },
    {
      "cell_type": "markdown",
      "source": [
        "**Age**"
      ],
      "metadata": {
        "id": "O6WC8-qLc7Nu"
      }
    },
    {
      "cell_type": "code",
      "source": [
        "Credit_data_clean['age'].quantile((.25,.50,.75,.90,.95,.99,1))\n",
        "#Obs: #1% outliers"
      ],
      "metadata": {
        "id": "zHzlvNFg-iVz",
        "collapsed": true
      },
      "execution_count": null,
      "outputs": []
    },
    {
      "cell_type": "markdown",
      "source": [
        "**30 DPD**"
      ],
      "metadata": {
        "id": "PlSVaROYd9i5"
      }
    },
    {
      "cell_type": "code",
      "source": [
        "Credit_data_clean['NumberOfTime30-59DaysPastDueNotWorse'].value_counts()\n",
        "#Obs:#Outliers present 98 and 96"
      ],
      "metadata": {
        "id": "1QizGeB0DvX5"
      },
      "execution_count": null,
      "outputs": []
    },
    {
      "cell_type": "markdown",
      "source": [
        "**No of loans**"
      ],
      "metadata": {
        "id": "hUd4FMiteEBY"
      }
    },
    {
      "cell_type": "code",
      "source": [
        "Credit_data_clean['NumberOfOpenCreditLinesAndLoans'].value_counts()\n",
        "#Obs:#Outliers present"
      ],
      "metadata": {
        "id": "mE-OL4uSH3ft"
      },
      "execution_count": null,
      "outputs": []
    },
    {
      "cell_type": "markdown",
      "source": [
        "**90 DPD**"
      ],
      "metadata": {
        "id": "uJeo6zyYeQq5"
      }
    },
    {
      "cell_type": "code",
      "source": [
        "print(Credit_data_clean['NumberOfTimes90DaysLate'].value_counts())\n",
        "#Obs:#Outliers present 98 and 96"
      ],
      "metadata": {
        "id": "olCktse3H3jE"
      },
      "execution_count": null,
      "outputs": []
    },
    {
      "cell_type": "markdown",
      "source": [
        "**No of Home Loans**"
      ],
      "metadata": {
        "id": "V-wjHcZZeava"
      }
    },
    {
      "cell_type": "code",
      "source": [
        "Credit_data_clean['NumberRealEstateLoansOrLines'].value_counts()\n",
        "#Obs:#Outliers present"
      ],
      "metadata": {
        "id": "sapCMj4YH3rS"
      },
      "execution_count": null,
      "outputs": []
    },
    {
      "cell_type": "markdown",
      "source": [
        "**60 DPD**"
      ],
      "metadata": {
        "id": "IkARqUEYeSo1"
      }
    },
    {
      "cell_type": "code",
      "source": [
        "Credit_data_clean['NumberOfTime60-89DaysPastDueNotWorse'].value_counts()\n",
        "#Obs:#Outliers present 98 and 96"
      ],
      "metadata": {
        "id": "-Nu3c_d4H3t0"
      },
      "execution_count": null,
      "outputs": []
    },
    {
      "cell_type": "markdown",
      "source": [
        "**No of dependents**"
      ],
      "metadata": {
        "id": "4A7INSfyefHI"
      }
    },
    {
      "cell_type": "code",
      "source": [
        "Credit_data_clean['NumberOfDependents'  ].value_counts()\n",
        "#Obs: Outliers present and data type is float"
      ],
      "metadata": {
        "id": "nP-A009VH3wZ"
      },
      "execution_count": null,
      "outputs": []
    },
    {
      "cell_type": "code",
      "source": [
        "Credit_data_clean.columns"
      ],
      "metadata": {
        "colab": {
          "base_uri": "https://localhost:8080/"
        },
        "id": "S3bbWMCIf7rO",
        "outputId": "20954fe7-6ea4-4d5f-a651-060a90bcb1f2"
      },
      "execution_count": 36,
      "outputs": [
        {
          "output_type": "execute_result",
          "data": {
            "text/plain": [
              "Index(['Sr_No', 'SeriousDlqin2yrs', 'monthly_utilization', 'age',\n",
              "       'NumberOfTime30-59DaysPastDueNotWorse', 'DebtRatio', 'MonthlyIncome',\n",
              "       'NumberOfOpenCreditLinesAndLoans', 'NumberOfTimes90DaysLate',\n",
              "       'NumberRealEstateLoansOrLines', 'NumberOfTime60-89DaysPastDueNotWorse',\n",
              "       'NumberOfDependents'],\n",
              "      dtype='object')"
            ]
          },
          "metadata": {},
          "execution_count": 36
        }
      ]
    },
    {
      "cell_type": "markdown",
      "source": [
        "#CONTINOUS VARIABLE EXPLORATION"
      ],
      "metadata": {
        "id": "UI6uXU1fHsVo"
      }
    },
    {
      "cell_type": "markdown",
      "source": [
        "**Monthly_utilization**"
      ],
      "metadata": {
        "id": "CuX2FoHGiHdd"
      }
    },
    {
      "cell_type": "code",
      "source": [
        "Credit_data_clean['monthly_utilization'].quantile([.25,.50,.75,.85,.90,.95,.96,.97,.98,.99,1])\n",
        "#Obs:3% outliers"
      ],
      "metadata": {
        "id": "9_RFWnUFH33d"
      },
      "execution_count": null,
      "outputs": []
    },
    {
      "cell_type": "markdown",
      "source": [
        "**Monthly Income**"
      ],
      "metadata": {
        "id": "TUkxWdCsiLg8"
      }
    },
    {
      "cell_type": "code",
      "source": [
        "Credit_data_clean['MonthlyIncome'].quantile([.25,.50,.75,.90,.95,.98,.99,1])"
      ],
      "metadata": {
        "id": "ZOcuKu7wPKJ0"
      },
      "execution_count": null,
      "outputs": []
    },
    {
      "cell_type": "code",
      "source": [
        "(Credit_data_clean['MonthlyIncome'].isnull().sum())\n",
        "#Obs:Null values"
      ],
      "metadata": {
        "colab": {
          "base_uri": "https://localhost:8080/"
        },
        "id": "FvyPq8qHPKME",
        "outputId": "770e562c-34a9-4ac9-83a7-9179b366b365"
      },
      "execution_count": 46,
      "outputs": [
        {
          "output_type": "execute_result",
          "data": {
            "text/plain": [
              "29731"
            ]
          },
          "metadata": {},
          "execution_count": 46
        }
      ]
    },
    {
      "cell_type": "code",
      "source": [
        "Credit_data_clean['MonthlyIncome'].isnull().sum()/len(Credit_data_clean)\n",
        "#Obs: % of null values = 19%"
      ],
      "metadata": {
        "colab": {
          "base_uri": "https://localhost:8080/"
        },
        "id": "Ie8VIvEOhRIJ",
        "outputId": "f5ccba6b-b89c-448c-f2d4-27b0d280a15b"
      },
      "execution_count": 47,
      "outputs": [
        {
          "output_type": "execute_result",
          "data": {
            "text/plain": [
              "0.19820666666666667"
            ]
          },
          "metadata": {},
          "execution_count": 47
        }
      ]
    },
    {
      "cell_type": "markdown",
      "source": [
        "**Debt Ratio**"
      ],
      "metadata": {
        "id": "0fARMiqniPIJ"
      }
    },
    {
      "cell_type": "code",
      "source": [
        "(Credit_data_clean['DebtRatio'].quantile([.25,.50,.75,.765,.81,.90,.95,.98,.99,1]))\n",
        "\n",
        "#76% data clean 24% Outliers"
      ],
      "metadata": {
        "id": "BLr8gBSpPKPi"
      },
      "execution_count": null,
      "outputs": []
    },
    {
      "cell_type": "markdown",
      "source": [
        "# **DATA CLEANING**"
      ],
      "metadata": {
        "id": "qjWSeTAeiTML"
      }
    },
    {
      "cell_type": "code",
      "source": [
        "Credit_data_clean=Credit_data_clean.drop(columns='Sr_No',axis=1)\n",
        "#Dropping Serial column"
      ],
      "metadata": {
        "id": "8cdzbvxBPKY0"
      },
      "execution_count": 50,
      "outputs": []
    },
    {
      "cell_type": "markdown",
      "source": [
        "**Monthly_utilization**"
      ],
      "metadata": {
        "id": "MjLdhx5tkAa1"
      }
    },
    {
      "cell_type": "code",
      "source": [
        "Credit_data_clean['monthly_utilization_new']=Credit_data_clean['monthly_utilization']"
      ],
      "metadata": {
        "id": "p8wh4EsJPFoz"
      },
      "execution_count": 55,
      "outputs": []
    },
    {
      "cell_type": "code",
      "source": [
        "Credit_data_clean['monthly_utilization_new'][Credit_data_clean['monthly_utilization']>1]=Credit_data_clean['monthly_utilization'].median()"
      ],
      "metadata": {
        "id": "DZihp5jwPFrj"
      },
      "execution_count": null,
      "outputs": []
    },
    {
      "cell_type": "markdown",
      "source": [
        "Replaced the outliers that were above 100% utilization with median utilization"
      ],
      "metadata": {
        "id": "JqbuTJSHj61x"
      }
    },
    {
      "cell_type": "markdown",
      "source": [
        "**Age**"
      ],
      "metadata": {
        "id": "qO8WBT8Mk-4W"
      }
    },
    {
      "cell_type": "code",
      "source": [
        "Credit_data_clean['age'].quantile([0,.10,.25,.50,.75,.90,.95,.99,1])"
      ],
      "metadata": {
        "id": "G_OKQnw-wgB4"
      },
      "execution_count": null,
      "outputs": []
    },
    {
      "cell_type": "code",
      "source": [
        "Credit_data_clean['age_clean']=Credit_data_clean['age']"
      ],
      "metadata": {
        "id": "kvPswsqPxaSN"
      },
      "execution_count": 59,
      "outputs": []
    },
    {
      "cell_type": "code",
      "source": [
        "Credit_data_clean['age'].quantile([0,.01,.10,.25,.50,.75,.90,.95,.99,1])"
      ],
      "metadata": {
        "id": "YJAGCFbgxaVv"
      },
      "execution_count": null,
      "outputs": []
    },
    {
      "cell_type": "code",
      "source": [
        "#Flooring\n",
        "Credit_data_clean['age_clean'][Credit_data_clean['age']<24]=24\n",
        "#Capping\n",
        "Credit_data_clean['age_clean'][Credit_data_clean['age']>80]=80"
      ],
      "metadata": {
        "id": "ppyYbBA8yOPT"
      },
      "execution_count": null,
      "outputs": []
    },
    {
      "cell_type": "code",
      "source": [
        "Credit_data_clean=Credit_data_clean.drop('age',axis=1)\n",
        "#Dropped the old var after cleaning and creating a new var"
      ],
      "metadata": {
        "id": "rWCxf_PEyO7Z"
      },
      "execution_count": null,
      "outputs": []
    },
    {
      "cell_type": "markdown",
      "source": [
        "**30 DPD**"
      ],
      "metadata": {
        "id": "Z4SxM71Qlnk9"
      }
    },
    {
      "cell_type": "code",
      "source": [
        "Credit_data_clean['NumberOfTime30-59DaysPastDueNotWorse_clean']=Credit_data_clean['NumberOfTime30-59DaysPastDueNotWorse']\n"
      ],
      "metadata": {
        "id": "QA6n8mOfPFzK"
      },
      "execution_count": 63,
      "outputs": []
    },
    {
      "cell_type": "code",
      "source": [
        "Cross_tab_1=pd.crosstab(Credit_data_clean['NumberOfTime30-59DaysPastDueNotWorse_clean'],Credit_data_clean['SeriousDlqin2yrs'],normalize='index')"
      ],
      "metadata": {
        "id": "9opGPdb8PF1e"
      },
      "execution_count": 64,
      "outputs": []
    },
    {
      "cell_type": "code",
      "source": [
        "Cross_tab_1\n",
        "#The best value to replace 98 and  96 is 6 as per the class distribution."
      ],
      "metadata": {
        "id": "oT4hwsshPF6L"
      },
      "execution_count": null,
      "outputs": []
    },
    {
      "cell_type": "code",
      "source": [
        "Credit_data_clean['NumberOfTime30-59DaysPastDueNotWorse_clean'][Credit_data_clean['NumberOfTime30-59DaysPastDueNotWorse']>24]=6\n",
        "#Replace the value"
      ],
      "metadata": {
        "id": "VZq8uX3ybbyd"
      },
      "execution_count": null,
      "outputs": []
    },
    {
      "cell_type": "code",
      "source": [
        "Credit_data_clean['NumberOfTime30-59DaysPastDueNotWorse_clean'].value_counts()\n",
        "Credit_data_clean=Credit_data_clean.drop('NumberOfTime30-59DaysPastDueNotWorse',axis=1)\n",
        "#Drop the  old column"
      ],
      "metadata": {
        "id": "EBaDudKyPF8d"
      },
      "execution_count": null,
      "outputs": []
    },
    {
      "cell_type": "markdown",
      "source": [
        "**DebtRatio**"
      ],
      "metadata": {
        "id": "H-rX0gclmKwV"
      }
    },
    {
      "cell_type": "code",
      "source": [
        "Credit_data_clean['DebtRatio'].quantile([.25,.50,.765,.95,.99,1])\n",
        "#As the outliers are significant in number we do Imputation as well as Flagging."
      ],
      "metadata": {
        "id": "kvP2yBA_PF-f"
      },
      "execution_count": null,
      "outputs": []
    },
    {
      "cell_type": "code",
      "source": [
        "Credit_data_clean['DebtRatio_clean']=Credit_data_clean['DebtRatio']\n",
        "Credit_data_clean['DebtRatio_clean'][Credit_data_clean['DebtRatio']>1]=Credit_data_clean['DebtRatio'].median()\n",
        "#Imputed"
      ],
      "metadata": {
        "id": "Inse8hBfcSho"
      },
      "execution_count": null,
      "outputs": []
    },
    {
      "cell_type": "code",
      "source": [
        "Credit_data_clean['DebtRatio_Flag']=1\n",
        "Credit_data_clean['DebtRatio_Flag'][Credit_data_clean['DebtRatio']>1]=0\n",
        "Credit_data_clean['DebtRatio_Flag'].value_counts()\n",
        "#Flagged"
      ],
      "metadata": {
        "id": "T2FxD5z9cSkQ"
      },
      "execution_count": null,
      "outputs": []
    },
    {
      "cell_type": "code",
      "source": [
        "Credit_data_clean['DebtRatio_clean'].quantile([.25,.50,.765,.95,.99,1])"
      ],
      "metadata": {
        "id": "_TskFzI-2Xqb"
      },
      "execution_count": null,
      "outputs": []
    },
    {
      "cell_type": "markdown",
      "source": [
        "**Monthly Income**"
      ],
      "metadata": {
        "id": "kZedLGmnmsav"
      }
    },
    {
      "cell_type": "code",
      "source": [
        "Credit_data_clean['MonthlyIncome'].isnull().sum()/len(Credit_data_clean)\n",
        "#As the Null values are significant in number we do Imputation as well as Flagging."
      ],
      "metadata": {
        "id": "9BLb8o5HcSnN"
      },
      "execution_count": null,
      "outputs": []
    },
    {
      "cell_type": "code",
      "source": [
        "Credit_data_clean['MonthlyIncome_clean']=Credit_data_clean['MonthlyIncome']\n",
        "Credit_data_clean['MonthlyIncome_clean'][Credit_data_clean['MonthlyIncome'].isnull()]=Credit_data_clean['MonthlyIncome'].median()\n",
        "#Imputed"
      ],
      "metadata": {
        "id": "2ke9QpTVcSpa"
      },
      "execution_count": null,
      "outputs": []
    },
    {
      "cell_type": "code",
      "source": [
        "Credit_data_clean['MonthlyIncome_Flag']=Credit_data_clean['MonthlyIncome']\n",
        "Credit_data_clean['MonthlyIncome_Flag']=1\n",
        "Credit_data_clean['MonthlyIncome_Flag'][Credit_data_clean['MonthlyIncome'].isnull()]=0\n",
        "#Flagged"
      ],
      "metadata": {
        "id": "aeywTSyWcSrT"
      },
      "execution_count": null,
      "outputs": []
    },
    {
      "cell_type": "code",
      "source": [
        "Credit_data_clean['MonthlyIncome_Flag'].value_counts()"
      ],
      "metadata": {
        "id": "wcxnVpOLcSuA"
      },
      "execution_count": null,
      "outputs": []
    },
    {
      "cell_type": "code",
      "source": [
        "Credit_data_clean=Credit_data_clean.drop('MonthlyIncome',axis=1)\n",
        "#Drop the  old column"
      ],
      "metadata": {
        "id": "fIeOfEZ0oLRl"
      },
      "execution_count": null,
      "outputs": []
    },
    {
      "cell_type": "markdown",
      "source": [
        "**No of Loans**"
      ],
      "metadata": {
        "id": "XFTGJATCm9sg"
      }
    },
    {
      "cell_type": "code",
      "source": [
        "Credit_data_clean['NumberOfOpenCreditLinesAndLoans'].quantile([.25,.50,.75,.90,.95,.99,1])"
      ],
      "metadata": {
        "id": "cUxkm4rEcSyO"
      },
      "execution_count": null,
      "outputs": []
    },
    {
      "cell_type": "code",
      "source": [
        "Credit_data_clean['NumberOfOpenCreditLinesAndLoans_clean']=Credit_data_clean['NumberOfOpenCreditLinesAndLoans']\n",
        "Credit_data_clean['NumberOfOpenCreditLinesAndLoans_clean'][Credit_data_clean['NumberOfOpenCreditLinesAndLoans']>18]=Credit_data_clean['NumberOfOpenCreditLinesAndLoans'].median()\n",
        "#Imputed"
      ],
      "metadata": {
        "id": "BCJcdzVHgQEF"
      },
      "execution_count": null,
      "outputs": []
    },
    {
      "cell_type": "code",
      "source": [
        "Credit_data_clean['NumberOfOpenCreditLinesAndLoans_clean'].quantile([.25,.50,.75,.90,.95,.99,1])"
      ],
      "metadata": {
        "id": "KpH8ZvKygQGy"
      },
      "execution_count": null,
      "outputs": []
    },
    {
      "cell_type": "code",
      "source": [
        "Credit_data_clean=Credit_data_clean.drop('NumberOfOpenCreditLinesAndLoans',axis=1)\n",
        "#Drop the  old column"
      ],
      "metadata": {
        "id": "J-6SdifmgQI3"
      },
      "execution_count": null,
      "outputs": []
    },
    {
      "cell_type": "markdown",
      "source": [
        "**90 DPD**"
      ],
      "metadata": {
        "id": "4b54gD7qoh7R"
      }
    },
    {
      "cell_type": "code",
      "source": [
        "Credit_data_clean['NumberOfTimes90DaysLate'].value_counts()"
      ],
      "metadata": {
        "id": "VRZPuVtlgQLU"
      },
      "execution_count": null,
      "outputs": []
    },
    {
      "cell_type": "code",
      "source": [
        "cross_tab_2=pd.crosstab(Credit_data_clean['NumberOfTimes90DaysLate'],Credit_data_clean['SeriousDlqin2yrs'],normalize='index')"
      ],
      "metadata": {
        "id": "AtfpZLKBgQNw"
      },
      "execution_count": 82,
      "outputs": []
    },
    {
      "cell_type": "code",
      "source": [
        "cross_tab_2\n",
        "#The best value to replace 98 and  96 is 3 as per the class distribution."
      ],
      "metadata": {
        "id": "9E3_Nm0vgQRB"
      },
      "execution_count": null,
      "outputs": []
    },
    {
      "cell_type": "code",
      "source": [
        "Credit_data_clean['NumberOfTimes90DaysLate_clean']=Credit_data_clean['NumberOfTimes90DaysLate']\n",
        "Credit_data_clean['NumberOfTimes90DaysLate_clean'][Credit_data_clean['NumberOfTimes90DaysLate']>24]=3"
      ],
      "metadata": {
        "id": "FeeGIFkPihkI"
      },
      "execution_count": null,
      "outputs": []
    },
    {
      "cell_type": "code",
      "source": [
        "Credit_data_clean=Credit_data_clean.drop('NumberOfTimes90DaysLate',axis=1)\n",
        "#Dropped old Var"
      ],
      "metadata": {
        "id": "0agAzoTuihm8"
      },
      "execution_count": null,
      "outputs": []
    },
    {
      "cell_type": "markdown",
      "source": [
        "**No of Home Loans**"
      ],
      "metadata": {
        "id": "ChtGWDZSpAZa"
      }
    },
    {
      "cell_type": "code",
      "source": [
        "Credit_data_clean['NumberRealEstateLoansOrLines'].quantile([.25,.50,.75,.90,.95,.99,1])"
      ],
      "metadata": {
        "id": "7Se98SWbjHdG"
      },
      "execution_count": null,
      "outputs": []
    },
    {
      "cell_type": "code",
      "source": [
        "Credit_data_clean['NumberRealEstateLoansOrLines_clean']=Credit_data_clean['NumberRealEstateLoansOrLines']\n",
        "Credit_data_clean['NumberRealEstateLoansOrLines_clean'][Credit_data_clean['NumberRealEstateLoansOrLines']>10]=Credit_data_clean['NumberRealEstateLoansOrLines'].median()\n",
        "#Imputing the 1% outlier"
      ],
      "metadata": {
        "id": "pMVOtEmPihrR"
      },
      "execution_count": null,
      "outputs": []
    },
    {
      "cell_type": "code",
      "source": [
        "Credit_data_clean['NumberRealEstateLoansOrLines_clean'].quantile([.25,.50,.75,.90,.95,.99,1])"
      ],
      "metadata": {
        "id": "ZSQ1HYr5ihty"
      },
      "execution_count": null,
      "outputs": []
    },
    {
      "cell_type": "code",
      "source": [
        "Credit_data_clean=Credit_data_clean.drop('NumberRealEstateLoansOrLines',axis=1)\n",
        "#Dropped old Var"
      ],
      "metadata": {
        "id": "wKDkMwivihvz"
      },
      "execution_count": 87,
      "outputs": []
    },
    {
      "cell_type": "markdown",
      "source": [
        "**60 DPD**"
      ],
      "metadata": {
        "id": "9QAssCSrpYDe"
      }
    },
    {
      "cell_type": "code",
      "source": [
        "Credit_data_clean['NumberOfTime60-89DaysPastDueNotWorse'].value_counts()"
      ],
      "metadata": {
        "id": "xdST41t8mZ3g"
      },
      "execution_count": null,
      "outputs": []
    },
    {
      "cell_type": "code",
      "source": [
        "cross_tab_3=pd.crosstab(Credit_data_clean['NumberOfTime60-89DaysPastDueNotWorse'],Credit_data_clean['SeriousDlqin2yrs'],normalize='index')"
      ],
      "metadata": {
        "id": "97bF9BGhmZ_C"
      },
      "execution_count": 90,
      "outputs": []
    },
    {
      "cell_type": "code",
      "source": [
        "cross_tab_3\n",
        "#The best value to replace 98 and  96 is 3 as per the class distribution."
      ],
      "metadata": {
        "id": "FkYskEhYmaFH"
      },
      "execution_count": null,
      "outputs": []
    },
    {
      "cell_type": "code",
      "source": [
        "Credit_data_clean['NumberOfTime60-89DaysPastDueNotWorse_clean']=Credit_data_clean['NumberOfTime60-89DaysPastDueNotWorse']\n",
        "Credit_data_clean['NumberOfTime60-89DaysPastDueNotWorse_clean'][Credit_data_clean['NumberOfTime60-89DaysPastDueNotWorse']>24]=3"
      ],
      "metadata": {
        "id": "CzbxBcdbmaJt"
      },
      "execution_count": null,
      "outputs": []
    },
    {
      "cell_type": "code",
      "source": [
        "Credit_data_clean=Credit_data_clean.drop('NumberOfTime60-89DaysPastDueNotWorse',axis=1)\n",
        "#Dropped old Var"
      ],
      "metadata": {
        "id": "xxnNb78CnN89"
      },
      "execution_count": null,
      "outputs": []
    },
    {
      "cell_type": "markdown",
      "source": [
        "**Number Of Dependents**"
      ],
      "metadata": {
        "id": "bBgcUMQlpuGn"
      }
    },
    {
      "cell_type": "code",
      "source": [
        "Credit_data_clean['NumberOfDependents'].quantile([.25,.50,.75,.90,.95,.99,.9999,1])\n",
        "#<1% of Data is above 10"
      ],
      "metadata": {
        "id": "-QFbjdAwihyT"
      },
      "execution_count": null,
      "outputs": []
    },
    {
      "cell_type": "code",
      "source": [
        "Credit_data_clean['NumberOfDependents'].isnull().sum()/len(Credit_data)\n",
        "#26% has null values"
      ],
      "metadata": {
        "id": "ft8T8JPRkxzr"
      },
      "execution_count": null,
      "outputs": []
    },
    {
      "cell_type": "code",
      "source": [
        "Credit_data_clean[\"NumberOfDependents_new\"]=Credit_data_clean[\"NumberOfDependents\"]\n",
        "Credit_data_clean[\"NumberOfDependents_new\"][(Credit_data_clean[\"NumberOfDependents_new\"]>10)|\n",
        "                (Credit_data_clean[\"NumberOfDependents\"].isnull())]=Credit_data_clean[\"NumberOfDependents\"].median()\n",
        "\n",
        "#Clean the nulls and missing values with median"
      ],
      "metadata": {
        "id": "r2besDifksYV"
      },
      "execution_count": null,
      "outputs": []
    },
    {
      "cell_type": "code",
      "source": [
        "Credit_data_clean['NumberOfDependents_new']=Credit_data_clean['NumberOfDependents_new'].astype(int)\n",
        "#Changing the data type to int"
      ],
      "metadata": {
        "id": "WUnFQhUqtWyu"
      },
      "execution_count": null,
      "outputs": []
    },
    {
      "cell_type": "code",
      "source": [
        "Credit_data_clean.info()"
      ],
      "metadata": {
        "colab": {
          "base_uri": "https://localhost:8080/"
        },
        "id": "uJU5KAcGksaw",
        "outputId": "4497bfc2-5095-4b6c-dbf8-5d9d5d153d81"
      },
      "execution_count": 113,
      "outputs": [
        {
          "output_type": "stream",
          "name": "stdout",
          "text": [
            "<class 'pandas.core.frame.DataFrame'>\n",
            "RangeIndex: 150000 entries, 0 to 149999\n",
            "Data columns (total 13 columns):\n",
            " #   Column                                      Non-Null Count   Dtype  \n",
            "---  ------                                      --------------   -----  \n",
            " 0   SeriousDlqin2yrs                            150000 non-null  int64  \n",
            " 1   monthly_utilization_new                     150000 non-null  float64\n",
            " 2   age_clean                                   150000 non-null  int64  \n",
            " 3   NumberOfTime30-59DaysPastDueNotWorse_clean  150000 non-null  int64  \n",
            " 4   DebtRatio_clean                             150000 non-null  float64\n",
            " 5   DebtRatio_Flag                              150000 non-null  int64  \n",
            " 6   MonthlyIncome_clean                         150000 non-null  float64\n",
            " 7   MonthlyIncome_Flag                          150000 non-null  int64  \n",
            " 8   NumberOfOpenCreditLinesAndLoans_clean       150000 non-null  int64  \n",
            " 9   NumberRealEstateLoansOrLines_clean          150000 non-null  int64  \n",
            " 10  NumberOfDependents_new                      150000 non-null  int64  \n",
            " 11  NumberOfTimes90DaysLate_clean               150000 non-null  int64  \n",
            " 12  NumberOfTime60-89DaysPastDueNotWorse_clean  150000 non-null  int64  \n",
            "dtypes: float64(3), int64(10)\n",
            "memory usage: 14.9 MB\n"
          ]
        }
      ]
    },
    {
      "cell_type": "markdown",
      "source": [
        "# **MODEL BUILDING USING LOGISTIC REGRESSION**"
      ],
      "metadata": {
        "id": "7K_Q_UJuIsVk"
      }
    },
    {
      "cell_type": "code",
      "source": [
        "import statsmodels.api as sm\n",
        "import statsmodels.formula.api as smf\n",
        "import numpy as np\n",
        "from sklearn.linear_model import LogisticRegression\n",
        "from sklearn.metrics import confusion_matrix,accuracy_score\n",
        "from sklearn.model_selection import train_test_split"
      ],
      "metadata": {
        "id": "wT9z57LHIx-J"
      },
      "execution_count": 155,
      "outputs": []
    },
    {
      "cell_type": "code",
      "source": [
        "x=Credit_data_clean.drop('SeriousDlqin2yrs',axis=1)\n",
        "y=Credit_data_clean['SeriousDlqin2yrs']\n",
        "\n",
        "xtrain,xtest,ytrain,ytest=train_test_split(x,y,test_size=0.3,random_state=123)\n",
        "\n",
        "#Split the data into train and test data"
      ],
      "metadata": {
        "id": "kYMD1DN3IyAR"
      },
      "execution_count": 114,
      "outputs": []
    },
    {
      "cell_type": "code",
      "source": [
        "model=sm.Logit(ytrain,xtrain).fit()\n",
        "print(model.summary())\n",
        "\n",
        "#Build the model"
      ],
      "metadata": {
        "colab": {
          "base_uri": "https://localhost:8080/"
        },
        "id": "RVu1nIeMIyC_",
        "outputId": "64150947-ad65-4d97-bbe9-1aa9deb81dfd"
      },
      "execution_count": 116,
      "outputs": [
        {
          "output_type": "stream",
          "name": "stdout",
          "text": [
            "Optimization terminated successfully.\n",
            "         Current function value: 0.209203\n",
            "         Iterations 8\n",
            "                           Logit Regression Results                           \n",
            "==============================================================================\n",
            "Dep. Variable:       SeriousDlqin2yrs   No. Observations:               105000\n",
            "Model:                          Logit   Df Residuals:                   104988\n",
            "Method:                           MLE   Df Model:                           11\n",
            "Date:                Thu, 13 Feb 2025   Pseudo R-squ.:                  0.1476\n",
            "Time:                        19:12:44   Log-Likelihood:                -21966.\n",
            "converged:                       True   LL-Null:                       -25770.\n",
            "Covariance Type:            nonrobust   LLR p-value:                     0.000\n",
            "==============================================================================================================\n",
            "                                                 coef    std err          z      P>|z|      [0.025      0.975]\n",
            "--------------------------------------------------------------------------------------------------------------\n",
            "monthly_utilization_new                        0.9970      0.035     28.709      0.000       0.929       1.065\n",
            "age_clean                                     -0.0550      0.001    -66.145      0.000      -0.057      -0.053\n",
            "NumberOfTime30-59DaysPastDueNotWorse_clean    -0.0285      0.002    -14.642      0.000      -0.032      -0.025\n",
            "DebtRatio_clean                               -0.2852      0.076     -3.751      0.000      -0.434      -0.136\n",
            "DebtRatio_Flag                                -0.3696      0.051     -7.194      0.000      -0.470      -0.269\n",
            "MonthlyIncome_clean                        -4.839e-05   4.62e-06    -10.469      0.000   -5.75e-05   -3.93e-05\n",
            "MonthlyIncome_Flag                            -0.2753      0.053     -5.151      0.000      -0.380      -0.171\n",
            "NumberOfOpenCreditLinesAndLoans_clean          0.0080      0.004      2.032      0.042       0.000       0.016\n",
            "NumberRealEstateLoansOrLines_clean             0.1479      0.015      9.933      0.000       0.119       0.177\n",
            "NumberOfDependents_new                         0.0364      0.012      3.129      0.002       0.014       0.059\n",
            "NumberOfTimes90DaysLate_clean                  0.7903      0.020     39.499      0.000       0.751       0.830\n",
            "NumberOfTime60-89DaysPastDueNotWorse_clean     0.9283      0.027     33.965      0.000       0.875       0.982\n",
            "==============================================================================================================\n"
          ]
        }
      ]
    },
    {
      "cell_type": "code",
      "source": [
        "#Predictions on the train and test data\n",
        "predict_train=model.predict(xtrain)\n",
        "predict_test=model.predict(xtest)\n",
        "\n",
        "#Accuracy on train data\n",
        "cm_train=confusion_matrix(ytrain,np.round(predict_train))\n",
        "Accuracy_train_data=accuracy_score(ytrain,np.round(predict_train))\n",
        "print(cm_train)\n",
        "print(Accuracy_train_data)\n",
        "\n",
        "#Accuracy on test data\n",
        "cm_test=confusion_matrix(ytest,np.round(predict_test))\n",
        "Accuracy_test=accuracy_score(ytest,np.round(predict_test))\n",
        "print(cm_test)\n",
        "print(Accuracy_test)\n",
        "\n",
        "\n",
        "##Over all accuracy is 93.5%\n"
      ],
      "metadata": {
        "id": "MdBwCIaWIyFR"
      },
      "execution_count": null,
      "outputs": []
    },
    {
      "cell_type": "markdown",
      "source": [
        "**Check for Multicollinearity**"
      ],
      "metadata": {
        "id": "Y-daadZzy3lj"
      }
    },
    {
      "cell_type": "code",
      "source": [
        "#Vif Function\n",
        "import statsmodels.formula.api as sm\n",
        "\n",
        "def vif_cal(Data,col):\n",
        "    x_vars=Data.drop([col], axis=1)\n",
        "    xvar_names=x_vars.columns\n",
        "    for i in range(0,xvar_names.shape[0]):\n",
        "        y=x_vars[xvar_names[i]]\n",
        "        x=x_vars[xvar_names.drop(xvar_names[i])]\n",
        "        rsq=sm.ols(formula=\"y~x\", data=x_vars).fit().rsquared\n",
        "        vif=round(1/(1-rsq),2)\n",
        "        print (xvar_names[i], \" VIF = \" , vif)"
      ],
      "metadata": {
        "id": "se1CdRCxIyJ0"
      },
      "execution_count": 135,
      "outputs": []
    },
    {
      "cell_type": "code",
      "source": [
        "vif_cal(Credit_data_clean,'SeriousDlqin2yrs')\n",
        "\n",
        "#As all the VIF is below 5 there is no multicollinearity present"
      ],
      "metadata": {
        "colab": {
          "base_uri": "https://localhost:8080/"
        },
        "id": "2yPNJVMpIyMK",
        "outputId": "477b60d1-618c-4b35-cb87-05e5b73594f5"
      },
      "execution_count": 136,
      "outputs": [
        {
          "output_type": "stream",
          "name": "stdout",
          "text": [
            "monthly_utilization_new  VIF =  1.18\n",
            "age_clean  VIF =  1.16\n",
            "NumberOfTime30-59DaysPastDueNotWorse_clean  VIF =  1.23\n",
            "DebtRatio_clean  VIF =  1.4\n",
            "DebtRatio_Flag  VIF =  3.29\n",
            "MonthlyIncome_clean  VIF =  1.04\n",
            "MonthlyIncome_Flag  VIF =  3.38\n",
            "NumberOfOpenCreditLinesAndLoans_clean  VIF =  1.34\n",
            "NumberRealEstateLoansOrLines_clean  VIF =  1.46\n",
            "NumberOfDependents_new  VIF =  1.12\n",
            "NumberOfTimes90DaysLate_clean  VIF =  1.21\n",
            "NumberOfTime60-89DaysPastDueNotWorse_clean  VIF =  1.3\n"
          ]
        }
      ]
    },
    {
      "cell_type": "markdown",
      "source": [
        "#Model Validation & Class Imbalance\n",
        "\n",
        "---\n",
        "\n"
      ],
      "metadata": {
        "id": "U6Mx9eRL3HTS"
      }
    },
    {
      "cell_type": "code",
      "source": [
        "#Class Based Accuracy\n",
        "print('Train_data_matrix',cm_train)\n",
        "print('Test_data_matrix',cm_test)"
      ],
      "metadata": {
        "colab": {
          "base_uri": "https://localhost:8080/"
        },
        "id": "fCzWki_12H5-",
        "outputId": "6b2ec578-d455-47ed-e23a-efdff15889f6"
      },
      "execution_count": 146,
      "outputs": [
        {
          "output_type": "stream",
          "name": "stdout",
          "text": [
            "Train_data_matrix [[97277   703]\n",
            " [ 6048   972]]\n",
            "Test_data_matrix [[41670   324]\n",
            " [ 2568   438]]\n"
          ]
        }
      ]
    },
    {
      "cell_type": "code",
      "source": [
        "#Class 0 and Class 1 Accuracy\n",
        "\n",
        "Class_0_Acc=cm_train[0,0]/(cm_train[0,0]+cm_train[0,1])\n",
        "Class_1_Acc=cm_train[1,1]/(cm_train[1,0]+cm_train[1,1])\n",
        "\n",
        "print(\"Class-0 Accuracy\",Class_0_Acc)\n",
        "print(\"Class-1 Accuracy\",Class_1_Acc)\n",
        "\n",
        "#Class 1 accuracy is very low"
      ],
      "metadata": {
        "colab": {
          "base_uri": "https://localhost:8080/"
        },
        "id": "kiixlndD2H8t",
        "outputId": "8a48ec84-8b6b-48eb-eb8c-dfc66b784b82"
      },
      "execution_count": 148,
      "outputs": [
        {
          "output_type": "stream",
          "name": "stdout",
          "text": [
            "Class-0 Accuracy 0.9928250663400694\n",
            "Class-1 Accuracy 0.13846153846153847\n"
          ]
        }
      ]
    },
    {
      "cell_type": "markdown",
      "source": [
        "**Use SMOTE to handle class imbalance**"
      ],
      "metadata": {
        "id": "OuHTCNWR5jF5"
      }
    },
    {
      "cell_type": "code",
      "source": [
        "from imblearn.over_sampling import SMOTE\n",
        "\n",
        "#Using SMOTE to oversample the inferior class\n",
        "smote=SMOTE(sampling_strategy=0.6,random_state=23)\n",
        "xtrain_smote,ytrain_smote=smote.fit_resample(xtrain,ytrain)"
      ],
      "metadata": {
        "id": "uiZkliWs2IEk"
      },
      "execution_count": 150,
      "outputs": []
    },
    {
      "cell_type": "code",
      "source": [
        "model_1=sm.Logit(ytrain_smote,xtrain_smote).fit()\n",
        "print(model_1.summary())"
      ],
      "metadata": {
        "colab": {
          "base_uri": "https://localhost:8080/"
        },
        "id": "x9FhjbXL2IN8",
        "outputId": "8f8afd16-e373-4186-c506-c9d2001dd23e"
      },
      "execution_count": 156,
      "outputs": [
        {
          "output_type": "stream",
          "name": "stdout",
          "text": [
            "Optimization terminated successfully.\n",
            "         Current function value: 0.518354\n",
            "         Iterations 8\n",
            "                           Logit Regression Results                           \n",
            "==============================================================================\n",
            "Dep. Variable:       SeriousDlqin2yrs   No. Observations:               156768\n",
            "Model:                          Logit   Df Residuals:                   156756\n",
            "Method:                           MLE   Df Model:                           11\n",
            "Date:                Thu, 13 Feb 2025   Pseudo R-squ.:                  0.2165\n",
            "Time:                        20:09:29   Log-Likelihood:                -81261.\n",
            "converged:                       True   LL-Null:                   -1.0371e+05\n",
            "Covariance Type:            nonrobust   LLR p-value:                     0.000\n",
            "==============================================================================================================\n",
            "                                                 coef    std err          z      P>|z|      [0.025      0.975]\n",
            "--------------------------------------------------------------------------------------------------------------\n",
            "monthly_utilization_new                        1.7662      0.018     99.851      0.000       1.732       1.801\n",
            "age_clean                                     -0.0352      0.000   -103.118      0.000      -0.036      -0.035\n",
            "NumberOfTime30-59DaysPastDueNotWorse_clean     0.0111      0.004      2.811      0.005       0.003       0.019\n",
            "DebtRatio_clean                                1.5479      0.036     43.300      0.000       1.478       1.618\n",
            "DebtRatio_Flag                                -1.2130      0.023    -53.261      0.000      -1.258      -1.168\n",
            "MonthlyIncome_clean                          1.39e-05    1.2e-06     11.630      0.000    1.16e-05    1.62e-05\n",
            "MonthlyIncome_Flag                             1.1838      0.025     46.980      0.000       1.134       1.233\n",
            "NumberOfOpenCreditLinesAndLoans_clean          0.0047      0.002      2.620      0.009       0.001       0.008\n",
            "NumberRealEstateLoansOrLines_clean            -0.3475      0.008    -44.997      0.000      -0.363      -0.332\n",
            "NumberOfDependents_new                        -0.1767      0.006    -28.782      0.000      -0.189      -0.165\n",
            "NumberOfTimes90DaysLate_clean                  0.8286      0.015     55.889      0.000       0.800       0.858\n",
            "NumberOfTime60-89DaysPastDueNotWorse_clean     0.6068      0.019     32.335      0.000       0.570       0.644\n",
            "==============================================================================================================\n"
          ]
        }
      ]
    },
    {
      "cell_type": "code",
      "source": [
        "#Predictions on the train and test data\n",
        "predict_train_smote=model_1.predict(xtrain_smote)\n",
        "predict_test_smote=model_1.predict(xtest)\n",
        "\n",
        "#Confusion Matrix\n",
        "cm_train=confusion_matrix(ytrain_smote,np.round(predict_train_smote))\n",
        "cm_test=confusion_matrix(ytest,np.round(predict_test_smote))\n",
        "\n",
        "print(cm_train)\n",
        "print(cm_test)"
      ],
      "metadata": {
        "colab": {
          "base_uri": "https://localhost:8080/"
        },
        "id": "drfvAmN27T8x",
        "outputId": "4e358349-9f9b-474d-da35-17d6e51610e1"
      },
      "execution_count": 160,
      "outputs": [
        {
          "output_type": "stream",
          "name": "stdout",
          "text": [
            "[[83278 14702]\n",
            " [25693 33095]]\n",
            "[[35733  6261]\n",
            " [ 1259  1747]]\n"
          ]
        }
      ]
    },
    {
      "cell_type": "code",
      "source": [
        "#Accuracy on train and test data\n",
        "smote_test_accuracy=accuracy_score(ytest,np.round(predict_test_smote))\n",
        "smote_train_accuracy=accuracy_score(ytrain_smote,np.round(predict_train_smote))\n",
        "print(smote_test_accuracy)\n",
        "print(smote_train_accuracy)"
      ],
      "metadata": {
        "colab": {
          "base_uri": "https://localhost:8080/"
        },
        "id": "Z-jG8bqC7T_a",
        "outputId": "621cd2cb-bcb8-481e-c025-a305bfddd4d5"
      },
      "execution_count": 161,
      "outputs": [
        {
          "output_type": "stream",
          "name": "stdout",
          "text": [
            "0.8328888888888889\n",
            "0.7423262400489896\n"
          ]
        }
      ]
    },
    {
      "cell_type": "code",
      "source": [
        "#Class 0 and Class 1 Accuracy\n",
        "\n",
        "Class_0_Accuracy=cm_train[0,0]/(cm_train[0,0]+cm_train[0,1])\n",
        "Class_1_Accuracy=cm_train[1,1]/(cm_train[1,0]+cm_train[1,1])\n",
        "print('Class-0 Accuracy',Class_0_Accuracy)\n",
        "print('Class-1 Accuracy',Class_1_Accuracy)\n",
        "\n"
      ],
      "metadata": {
        "colab": {
          "base_uri": "https://localhost:8080/"
        },
        "id": "r2Fr-ElU7UCD",
        "outputId": "b848f527-747a-4e2b-d113-e7e3e968dee2"
      },
      "execution_count": 163,
      "outputs": [
        {
          "output_type": "stream",
          "name": "stdout",
          "text": [
            "Class-0 Accuracy 0.8499489691773832\n",
            "Class-1 Accuracy 0.5629550248350004\n"
          ]
        }
      ]
    },
    {
      "cell_type": "code",
      "source": [
        "'Before SMOTE'\n",
        "#Class-0 Accuracy 0.9928250663400694\n",
        "#Class-1 Accuracy 0.13846153846153847\n",
        "'After SMOTE'\n",
        "#Class-0 Accuracy 0.8499489691773832\n",
        "#Class-1 Accuracy 0.5629550248350004"
      ],
      "metadata": {
        "id": "zH01oe7Y7UEm"
      },
      "execution_count": null,
      "outputs": []
    },
    {
      "cell_type": "code",
      "source": [],
      "metadata": {
        "id": "19tc25Yk7UH0"
      },
      "execution_count": null,
      "outputs": []
    },
    {
      "cell_type": "code",
      "source": [],
      "metadata": {
        "id": "2ifjetiZ2IQp"
      },
      "execution_count": null,
      "outputs": []
    }
  ]
}